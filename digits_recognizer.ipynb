{
 "cells": [
  {
   "cell_type": "code",
   "execution_count": 17,
   "metadata": {},
   "outputs": [],
   "source": [
    "import keras\n",
    "from keras.datasets import mnist\n",
    "from keras.models import Sequential\n",
    "from keras.layers import Dense, Dropout, Flatten\n",
    "from keras.layers import Conv2D, MaxPooling2D\n",
    "from keras import backend as K"
   ]
  },
  {
   "cell_type": "code",
   "execution_count": 18,
   "metadata": {},
   "outputs": [
    {
     "name": "stdout",
     "output_type": "stream",
     "text": [
      "(60000, 28, 28) (60000,)\n"
     ]
    }
   ],
   "source": [
    "# Load data\n",
    "(x_train, y_train), (x_test, y_test) = mnist.load_data()\n",
    "print(x_train.shape, y_train.shape)"
   ]
  },
  {
   "cell_type": "code",
   "execution_count": 19,
   "metadata": {},
   "outputs": [],
   "source": [
    "# Reshape data\n",
    "x_train = x_train.reshape(x_train.shape[0], 28, 28, 1)\n",
    "x_test = x_test.reshape(x_test.shape[0], 28, 28, 1)\n",
    "input_shape = (28, 28, 1)"
   ]
  },
  {
   "cell_type": "code",
   "execution_count": 20,
   "metadata": {},
   "outputs": [],
   "source": [
    "num_classes = 10"
   ]
  },
  {
   "cell_type": "code",
   "execution_count": 21,
   "metadata": {},
   "outputs": [],
   "source": [
    "# Convert to categorical \n",
    "y_train = keras.utils.to_categorical(y_train, num_classes)\n",
    "y_test = keras.utils.to_categorical(y_test, num_classes)"
   ]
  },
  {
   "cell_type": "code",
   "execution_count": 22,
   "metadata": {},
   "outputs": [],
   "source": [
    "# Normalize pixel values\n",
    "x_train = x_train.astype('float32')\n",
    "x_test = x_test.astype('float32')\n",
    "x_train /= 255\n",
    "x_test /= 255"
   ]
  },
  {
   "cell_type": "code",
   "execution_count": 23,
   "metadata": {},
   "outputs": [
    {
     "name": "stdout",
     "output_type": "stream",
     "text": [
      "x_train shape: (60000, 28, 28, 1)\n",
      "60000 train samples\n",
      "10000 test samples\n"
     ]
    }
   ],
   "source": [
    "print('x_train shape:', x_train.shape)\n",
    "print(x_train.shape[0], 'train samples')\n",
    "print(x_test.shape[0], 'test samples')\n"
   ]
  },
  {
   "cell_type": "code",
   "execution_count": 24,
   "metadata": {},
   "outputs": [],
   "source": [
    "# Model parameters\n",
    "batch_size = 128\n",
    "epochs = 12  # Increased from 10"
   ]
  },
  {
   "cell_type": "code",
   "execution_count": 25,
   "metadata": {},
   "outputs": [],
   "source": [
    "# Build improved model\n",
    "model = Sequential()\n",
    "model.add(Conv2D(32, kernel_size=(3, 3), activation='relu', input_shape=input_shape))\n",
    "model.add(Conv2D(64, (3, 3), activation='relu'))\n",
    "model.add(MaxPooling2D(pool_size=(2, 2)))\n",
    "model.add(Dropout(0.25))\n",
    "model.add(Flatten())\n",
    "model.add(Dense(256, activation='relu'))\n",
    "model.add(Dropout(0.5))\n",
    "model.add(Dense(num_classes, activation='softmax'))"
   ]
  },
  {
   "cell_type": "code",
   "execution_count": 26,
   "metadata": {},
   "outputs": [],
   "source": [
    "# Better optimizer\n",
    "model.compile(loss=keras.losses.categorical_crossentropy,\n",
    "              optimizer='adam',  # Changed from Adadelta to Adam\n",
    "              metrics=['accuracy'])"
   ]
  },
  {
   "cell_type": "code",
   "execution_count": 27,
   "metadata": {},
   "outputs": [
    {
     "name": "stdout",
     "output_type": "stream",
     "text": [
      "Epoch 1/12\n",
      "469/469 [==============================] - 34s 72ms/step - loss: 0.1861 - accuracy: 0.9438 - val_loss: 0.0434 - val_accuracy: 0.9848\n",
      "Epoch 2/12\n",
      "469/469 [==============================] - 32s 68ms/step - loss: 0.0626 - accuracy: 0.9805 - val_loss: 0.0311 - val_accuracy: 0.9892\n",
      "Epoch 3/12\n",
      "469/469 [==============================] - 31s 67ms/step - loss: 0.0430 - accuracy: 0.9865 - val_loss: 0.0287 - val_accuracy: 0.9906\n",
      "Epoch 4/12\n",
      "469/469 [==============================] - 31s 66ms/step - loss: 0.0362 - accuracy: 0.9882 - val_loss: 0.0301 - val_accuracy: 0.9903\n",
      "Epoch 5/12\n",
      "469/469 [==============================] - 32s 67ms/step - loss: 0.0306 - accuracy: 0.9903 - val_loss: 0.0313 - val_accuracy: 0.9901\n",
      "Epoch 6/12\n",
      "469/469 [==============================] - 31s 67ms/step - loss: 0.0269 - accuracy: 0.9917 - val_loss: 0.0263 - val_accuracy: 0.9912\n",
      "Epoch 7/12\n",
      "469/469 [==============================] - 32s 68ms/step - loss: 0.0215 - accuracy: 0.9929 - val_loss: 0.0300 - val_accuracy: 0.9905\n",
      "Epoch 8/12\n",
      "469/469 [==============================] - 31s 67ms/step - loss: 0.0190 - accuracy: 0.9937 - val_loss: 0.0246 - val_accuracy: 0.9928\n",
      "Epoch 9/12\n",
      "469/469 [==============================] - 32s 67ms/step - loss: 0.0166 - accuracy: 0.9945 - val_loss: 0.0240 - val_accuracy: 0.9923\n",
      "Epoch 10/12\n",
      "469/469 [==============================] - 32s 67ms/step - loss: 0.0156 - accuracy: 0.9944 - val_loss: 0.0234 - val_accuracy: 0.9932\n",
      "Epoch 11/12\n",
      "469/469 [==============================] - 31s 67ms/step - loss: 0.0149 - accuracy: 0.9948 - val_loss: 0.0262 - val_accuracy: 0.9925\n",
      "Epoch 12/12\n",
      "469/469 [==============================] - 31s 67ms/step - loss: 0.0134 - accuracy: 0.9954 - val_loss: 0.0289 - val_accuracy: 0.9928\n"
     ]
    }
   ],
   "source": [
    "# Train model\n",
    "hist = model.fit(x_train, y_train,\n",
    "                batch_size=batch_size,\n",
    "                epochs=epochs,\n",
    "                verbose=1,\n",
    "                validation_data=(x_test, y_test))"
   ]
  },
  {
   "cell_type": "code",
   "execution_count": 28,
   "metadata": {},
   "outputs": [
    {
     "name": "stdout",
     "output_type": "stream",
     "text": [
      "Saving the model as mnist.h5\n"
     ]
    }
   ],
   "source": [
    "# Save and evaluate\n",
    "model.save('mnist.h5')\n",
    "print(\"Saving the model as mnist.h5\")"
   ]
  },
  {
   "cell_type": "code",
   "execution_count": 29,
   "metadata": {},
   "outputs": [
    {
     "name": "stdout",
     "output_type": "stream",
     "text": [
      "Test loss: 0.028919612988829613\n",
      "Test accuracy: 0.9927999973297119\n"
     ]
    }
   ],
   "source": [
    "score = model.evaluate(x_test, y_test, verbose=0)\n",
    "print('Test loss:', score[0])\n",
    "print('Test accuracy:', score[1])"
   ]
  },
  {
   "cell_type": "code",
   "execution_count": null,
   "metadata": {},
   "outputs": [],
   "source": []
  },
  {
   "cell_type": "code",
   "execution_count": null,
   "metadata": {},
   "outputs": [],
   "source": []
  }
 ],
 "metadata": {
  "kernelspec": {
   "display_name": "Python 3",
   "language": "python",
   "name": "python3"
  },
  "language_info": {
   "codemirror_mode": {
    "name": "ipython",
    "version": 3
   },
   "file_extension": ".py",
   "mimetype": "text/x-python",
   "name": "python",
   "nbconvert_exporter": "python",
   "pygments_lexer": "ipython3",
   "version": "3.8.2"
  }
 },
 "nbformat": 4,
 "nbformat_minor": 2
}
